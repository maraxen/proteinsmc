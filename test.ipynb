{
 "cells": [
  {
   "cell_type": "code",
   "execution_count": 3,
   "id": "7e3d348f",
   "metadata": {},
   "outputs": [],
   "source": [
    "import equinox as eqx\n",
    "import jax.tree_util as jtu\n",
    "from array_record.python.array_record_module import ArrayRecordReader, ArrayRecordWriter\n",
    "import jax\n",
    "import io\n",
    "import jax.numpy as jnp\n",
    "import jax.random as jrandom"
   ]
  },
  {
   "cell_type": "code",
   "execution_count": 7,
   "id": "693404f8",
   "metadata": {},
   "outputs": [],
   "source": [
    "example_array = jrandom.normal(jrandom.PRNGKey(0), (10,))\n",
    "tree = {\"a\": example_array, \"b\": [example_array, example_array]}\n",
    "leaves, tree_def = jtu.tree_flatten(tree)\n",
    "serialized = io.BytesIO()\n",
    "eqx.tree_serialise_leaves(serialized, tree)\n"
   ]
  },
  {
   "cell_type": "code",
   "execution_count": null,
   "id": "ec308e27",
   "metadata": {},
   "outputs": [],
   "source": [
    "deserialized = eqx.tree_deserialise_leaves(serialized, serialized)"
   ]
  },
  {
   "cell_type": "code",
   "execution_count": null,
   "id": "eae2ee43",
   "metadata": {},
   "outputs": [],
   "source": []
  }
 ],
 "metadata": {
  "kernelspec": {
   "display_name": "proteinsmc",
   "language": "python",
   "name": "python3"
  },
  "language_info": {
   "codemirror_mode": {
    "name": "ipython",
    "version": 3
   },
   "file_extension": ".py",
   "mimetype": "text/x-python",
   "name": "python",
   "nbconvert_exporter": "python",
   "pygments_lexer": "ipython3",
   "version": "3.13.5"
  }
 },
 "nbformat": 4,
 "nbformat_minor": 5
}
